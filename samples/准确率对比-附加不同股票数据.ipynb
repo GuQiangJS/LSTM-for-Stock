{
 "cells": [
  {
   "cell_type": "markdown",
   "metadata": {},
   "source": [
    "~~测试结果反应，无论拼接多少其他同分类股票，对于准确度的提升是不大的，几乎没有。~~\n",
    "\n",
    "\n",
    "## 测试内容\n",
    "\n",
    "根据证监会的行业分类，取出同行业下所有股票（上市时间早于 2015-01-01,并且是A股上市）。\n",
    "\n",
    "随机取出10条与待测试的股票组合，进行测试。（保留指数数据-`Wrapper_default`/`Normalize`）\n",
    "\n",
    "测试参数：\n",
    "\n",
    "* 窗口期：3\n",
    "* 测试期：1"
   ]
  },
  {
   "cell_type": "code",
   "execution_count": 1,
   "metadata": {
    "ExecuteTime": {
     "end_time": "2019-04-12T16:53:17.995161Z",
     "start_time": "2019-04-12T16:53:12.054136Z"
    }
   },
   "outputs": [
    {
     "name": "stderr",
     "output_type": "stream",
     "text": [
      "Using TensorFlow backend.\n"
     ]
    }
   ],
   "source": [
    "import os\n",
    "import sys\n",
    "nb_dir = os.path.split(os.getcwd())[0]\n",
    "if nb_dir not in sys.path:\n",
    "    sys.path.append(nb_dir)\n",
    "from LSTM_for_Stock.data_processor import Wrapper_default\n",
    "from LSTM_for_Stock.data_processor import Normalize\n",
    "from LSTM_for_Stock.data_processor import get_block_code\n",
    "from LSTM_for_Stock.data_processor import get_ipo_date\n",
    "import jupyter_helper\n",
    "from keras.backend import clear_session\n",
    "import pandas as pd\n",
    "import numpy as np\n",
    "import QUANTAXIS as QA\n",
    "import datetime\n",
    "import random"
   ]
  },
  {
   "cell_type": "code",
   "execution_count": 2,
   "metadata": {
    "ExecuteTime": {
     "end_time": "2019-04-12T16:53:18.007073Z",
     "start_time": "2019-04-12T16:53:17.999154Z"
    }
   },
   "outputs": [],
   "source": [
    "report={}\n",
    "report['kind']=[]\n",
    "report['acc']=[]\n",
    "report['mae']=[]\n",
    "report['loss']=[]\n",
    "window=3\n",
    "days=1"
   ]
  },
  {
   "cell_type": "code",
   "execution_count": 3,
   "metadata": {
    "ExecuteTime": {
     "end_time": "2019-04-12T16:53:18.024069Z",
     "start_time": "2019-04-12T16:53:18.012072Z"
    }
   },
   "outputs": [],
   "source": [
    "def test_code(code):\n",
    "    return code[0] in ['0', '3', '6']"
   ]
  },
  {
   "cell_type": "code",
   "execution_count": 7,
   "metadata": {
    "ExecuteTime": {
     "end_time": "2019-04-12T16:54:33.586676Z",
     "start_time": "2019-04-12T16:54:31.757647Z"
    }
   },
   "outputs": [
    {
     "name": "stderr",
     "output_type": "stream",
     "text": [
      "QUANTAXIS>> 'code'\n",
      "QUANTAXIS>> 'code'\n"
     ]
    }
   ],
   "source": [
    "end=datetime.datetime(2005,1, 1)\n",
    "codes = [code for code in get_block_code('000002') if test_code(code) and get_ipo_date(code) is not None and get_ipo_date(code)<=end]"
   ]
  },
  {
   "cell_type": "code",
   "execution_count": 8,
   "metadata": {
    "ExecuteTime": {
     "end_time": "2019-04-12T16:54:52.331025Z",
     "start_time": "2019-04-12T16:54:51.747016Z"
    }
   },
   "outputs": [
    {
     "data": {
      "text/plain": [
       "(129, 151)"
      ]
     },
     "execution_count": 8,
     "metadata": {},
     "output_type": "execute_result"
    }
   ],
   "source": [
    "len(codes),len(get_block_code('000002'))"
   ]
  },
  {
   "cell_type": "code",
   "execution_count": null,
   "metadata": {
    "ExecuteTime": {
     "start_time": "2019-04-12T16:55:48.952Z"
    }
   },
   "outputs": [
    {
     "name": "stdout",
     "output_type": "stream",
     "text": [
      "1/12900\n",
      "600759,000502,600215,000897,000671,600576,000889,000042,000638,600767\n"
     ]
    }
   ],
   "source": [
    "for i in range(len(codes)*100):\n",
    "    cs = random.sample(codes, 10)\n",
    "    print('{0}/{1}'.format(i+1, len(codes)*100))\n",
    "    print(','.join(cs))\n",
    "    h = jupyter_helper.do(\n",
    "        window=window,\n",
    "        days=days,\n",
    "        wrapper=Wrapper_default(),\n",
    "        norm=Normalize(),\n",
    "        appends=cs,\n",
    "        summary=False)\n",
    "    s = jupyter_helper.show_history(h, show_plt=False)\n",
    "    report['kind'].append(','.join(cs))\n",
    "    report['acc'].append(s['score'][2])\n",
    "    report['mae'].append(s['score'][1])\n",
    "    report['loss'].append(s['score'][0])"
   ]
  },
  {
   "cell_type": "markdown",
   "metadata": {},
   "source": [
    "## 报告"
   ]
  },
  {
   "cell_type": "code",
   "execution_count": null,
   "metadata": {
    "ExecuteTime": {
     "end_time": "2019-04-12T16:53:19.121115Z",
     "start_time": "2019-04-12T16:53:12.129Z"
    }
   },
   "outputs": [],
   "source": [
    "pd.DataFrame(report,columns=['kind','acc','mae','loss']).set_index('kind').sort_values('acc',ascending=False).head()"
   ]
  },
  {
   "cell_type": "code",
   "execution_count": null,
   "metadata": {},
   "outputs": [],
   "source": []
  }
 ],
 "metadata": {
  "hide_input": false,
  "kernelspec": {
   "display_name": "finance_py_35",
   "language": "python",
   "name": "finance35"
  },
  "language_info": {
   "codemirror_mode": {
    "name": "ipython",
    "version": 3
   },
   "file_extension": ".py",
   "mimetype": "text/x-python",
   "name": "python",
   "nbconvert_exporter": "python",
   "pygments_lexer": "ipython3",
   "version": "3.5.5"
  },
  "toc": {
   "base_numbering": 1,
   "nav_menu": {},
   "number_sections": true,
   "sideBar": true,
   "skip_h1_title": false,
   "title_cell": "Table of Contents",
   "title_sidebar": "Contents",
   "toc_cell": false,
   "toc_position": {},
   "toc_section_display": true,
   "toc_window_display": true
  }
 },
 "nbformat": 4,
 "nbformat_minor": 2
}
