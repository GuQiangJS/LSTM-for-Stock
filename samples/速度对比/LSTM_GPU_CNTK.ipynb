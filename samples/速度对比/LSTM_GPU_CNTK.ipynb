{
 "cells": [
  {
   "cell_type": "code",
   "execution_count": 1,
   "metadata": {
    "ExecuteTime": {
     "end_time": "2019-04-11T13:12:53.688975Z",
     "start_time": "2019-04-11T13:12:53.682966Z"
    }
   },
   "outputs": [
    {
     "name": "stderr",
     "output_type": "stream",
     "text": [
      "Using CNTK backend\n",
      "C:\\Users\\guqiang\\AppData\\Local\\conda\\conda\\envs\\finance35\\lib\\site-packages\\cntk\\cntk_py_init.py:32: UserWarning: Unsupported Windows version (2012serverr2). CNTK supports Windows 10 and above, only.\n",
      "  warnings.warn('Unsupported Windows version (%s). CNTK supports Windows 10 and above, only.' % __my_distro_ver__)\n"
     ]
    }
   ],
   "source": [
    "import os\n",
    "os.environ['KERAS_BACKEND']='cntk'\n",
    "import sys\n",
    "sys.path.append(os.path.dirname(os.getcwd()))\n",
    "sys.path.append(os.path.dirname(os.path.dirname(os.getcwd())))\n",
    "import jupyter_helper\n",
    "from keras.backend import clear_session\n",
    "import pandas as pd\n",
    "import numpy as np\n",
    "from LSTM_for_Stock.data_processor import Wrapper_default\n",
    "from LSTM_for_Stock.data_processor import Normalize"
   ]
  },
  {
   "cell_type": "markdown",
   "metadata": {},
   "source": [
    "## 测试环境"
   ]
  },
  {
   "cell_type": "code",
   "execution_count": 2,
   "metadata": {},
   "outputs": [
    {
     "name": "stdout",
     "output_type": "stream",
     "text": [
      "OS Name: b'Microsoft Windows Server 2012 R2 Standard'\n",
      "OS Version: 6.3.9600 9600\n",
      "CPU: Intel(R) Core(TM) i3-2120 CPU @ 3.30GHz\n",
      "RAM: 11.937084197998047 GB\n",
      "Graphics Card: NVIDIA GeForce GTX 750 Ti\n"
     ]
    }
   ],
   "source": [
    "jupyter_helper.print_system_info()"
   ]
  },
  {
   "cell_type": "code",
   "execution_count": 3,
   "metadata": {
    "ExecuteTime": {
     "end_time": "2019-04-11T13:12:53.702967Z",
     "start_time": "2019-04-11T13:12:53.692975Z"
    }
   },
   "outputs": [],
   "source": [
    "report={}\n",
    "report['acc']=[]\n",
    "report['mae']=[]\n",
    "report['loss']=[]\n",
    "report['time']=[]"
   ]
  },
  {
   "cell_type": "code",
   "execution_count": 4,
   "metadata": {
    "ExecuteTime": {
     "end_time": "2019-04-11T13:20:16.590524Z",
     "start_time": "2019-04-11T13:12:53.704984Z"
    }
   },
   "outputs": [
    {
     "name": "stdout",
     "output_type": "stream",
     "text": [
      "_________________________________________________________________\n",
      "Layer (type)                 Output Shape              Param #   \n",
      "=================================================================\n",
      "lstm_1 (LSTM)                (None, 128)               72192     \n",
      "_________________________________________________________________\n",
      "dense_1 (Dense)              (None, 1)                 129       \n",
      "=================================================================\n",
      "Total params: 72,321\n",
      "Trainable params: 72,321\n",
      "Non-trainable params: 0\n",
      "_________________________________________________________________\n",
      "Net time using :  341.4218316078186  secs.\n",
      "489/489 [==============================] - ETA:  - ETA:  - ETA:  - ETA:  - ETA:  - ETA:  - ETA:  - 0s 892us/step\n",
      "Score:\n",
      " loss:0.03138676158520098\n",
      " mean_absolute_error:0.02494296073486956\n",
      " acc:0.002044989775051125\n",
      "Slope Day1:0.9297736586640596\n",
      "_________________________________________________________________\n",
      "Layer (type)                 Output Shape              Param #   \n",
      "=================================================================\n",
      "lstm_2 (LSTM)                (None, 128)               72192     \n",
      "_________________________________________________________________\n",
      "dense_2 (Dense)              (None, 1)                 129       \n",
      "=================================================================\n",
      "Total params: 72,321\n",
      "Trainable params: 72,321\n",
      "Non-trainable params: 0\n",
      "_________________________________________________________________\n",
      "Net time using :  365.02237939834595  secs.\n",
      "489/489 [==============================] - ETA:  - ETA:  - ETA:  - ETA:  - ETA:  - ETA:  - ETA:  - ETA:  - 0s 1ms/step\n",
      "Score:\n",
      " loss:0.027516737359372143\n",
      " mean_absolute_error:0.02051402090197326\n",
      " acc:0.002044989775051125\n",
      "Slope Day1:0.9594621356597496\n",
      "_________________________________________________________________\n",
      "Layer (type)                 Output Shape              Param #   \n",
      "=================================================================\n",
      "lstm_3 (LSTM)                (None, 128)               72192     \n",
      "_________________________________________________________________\n",
      "dense_3 (Dense)              (None, 1)                 129       \n",
      "=================================================================\n",
      "Total params: 72,321\n",
      "Trainable params: 72,321\n",
      "Non-trainable params: 0\n",
      "_________________________________________________________________\n",
      "Net time using :  333.59031534194946  secs.\n",
      "489/489 [==============================] - ETA:  - ETA:  - ETA:  - ETA:  - ETA:  - ETA:  - ETA:  - ETA:  - ETA:  - 1s 1ms/step\n",
      "Score:\n",
      " loss:0.027461623114006163\n",
      " mean_absolute_error:0.020406671474042116\n",
      " acc:0.002044989775051125\n",
      "Slope Day1:0.9584152057548752\n",
      "_________________________________________________________________\n",
      "Layer (type)                 Output Shape              Param #   \n",
      "=================================================================\n",
      "lstm_4 (LSTM)                (None, 128)               72192     \n",
      "_________________________________________________________________\n",
      "dense_4 (Dense)              (None, 1)                 129       \n",
      "=================================================================\n",
      "Total params: 72,321\n",
      "Trainable params: 72,321\n",
      "Non-trainable params: 0\n",
      "_________________________________________________________________\n",
      "Net time using :  374.62789368629456  secs.\n",
      "489/489 [==============================] - ETA:  - ETA:  - ETA:  - ETA:  - ETA:  - ETA:  - ETA:  - ETA:  - ETA:  - 1s 1ms/step\n",
      "Score:\n",
      " loss:0.0270600936971681\n",
      " mean_absolute_error:0.020246760626390182\n",
      " acc:0.002044989775051125\n",
      "Slope Day1:0.9581217525948951\n",
      "_________________________________________________________________\n",
      "Layer (type)                 Output Shape              Param #   \n",
      "=================================================================\n",
      "lstm_5 (LSTM)                (None, 128)               72192     \n",
      "_________________________________________________________________\n",
      "dense_5 (Dense)              (None, 1)                 129       \n",
      "=================================================================\n",
      "Total params: 72,321\n",
      "Trainable params: 72,321\n",
      "Non-trainable params: 0\n",
      "_________________________________________________________________\n",
      "Net time using :  350.11067724227905  secs.\n",
      "489/489 [==============================] - ETA:  - ETA:  - ETA:  - ETA:  - ETA:  - ETA:  - ETA:  - ETA:  - ETA:  - ETA:  - 1s 1ms/step\n",
      "Score:\n",
      " loss:0.02734748814216908\n",
      " mean_absolute_error:0.020357636102534268\n",
      " acc:0.002044989775051125\n",
      "Slope Day1:0.9596879615541535\n"
     ]
    }
   ],
   "source": [
    "for i in range(1, 6):\n",
    "    ls = [{'type': 'lstm', 'units': 128},\n",
    "          {'type': 'dense'}]\n",
    "    h = jupyter_helper.do(layers=ls)\n",
    "    s = jupyter_helper.show_history(h, show_plt=False)\n",
    "    clear_session()\n",
    "#     report['window'].append(i)\n",
    "    report['acc'].append(s['score'][2])\n",
    "    report['mae'].append(s['score'][1])\n",
    "    report['loss'].append(s['score'][0])\n",
    "    report['time'].append(h['end']-h['start'])"
   ]
  },
  {
   "cell_type": "markdown",
   "metadata": {},
   "source": [
    "### 报告"
   ]
  },
  {
   "cell_type": "code",
   "execution_count": 5,
   "metadata": {
    "ExecuteTime": {
     "end_time": "2019-04-11T13:20:16.593521Z",
     "start_time": "2019-04-11T13:12:53.740Z"
    }
   },
   "outputs": [
    {
     "data": {
      "text/html": [
       "<div>\n",
       "<style scoped>\n",
       "    .dataframe tbody tr th:only-of-type {\n",
       "        vertical-align: middle;\n",
       "    }\n",
       "\n",
       "    .dataframe tbody tr th {\n",
       "        vertical-align: top;\n",
       "    }\n",
       "\n",
       "    .dataframe thead th {\n",
       "        text-align: right;\n",
       "    }\n",
       "</style>\n",
       "<table border=\"1\" class=\"dataframe\">\n",
       "  <thead>\n",
       "    <tr style=\"text-align: right;\">\n",
       "      <th></th>\n",
       "      <th>acc</th>\n",
       "      <th>loss</th>\n",
       "      <th>mae</th>\n",
       "      <th>time</th>\n",
       "    </tr>\n",
       "  </thead>\n",
       "  <tbody>\n",
       "    <tr>\n",
       "      <th>count</th>\n",
       "      <td>5.000000</td>\n",
       "      <td>5.000000</td>\n",
       "      <td>5.000000</td>\n",
       "      <td>5.000000</td>\n",
       "    </tr>\n",
       "    <tr>\n",
       "      <th>mean</th>\n",
       "      <td>0.002045</td>\n",
       "      <td>0.028155</td>\n",
       "      <td>0.021294</td>\n",
       "      <td>352.954619</td>\n",
       "    </tr>\n",
       "    <tr>\n",
       "      <th>std</th>\n",
       "      <td>0.000000</td>\n",
       "      <td>0.001815</td>\n",
       "      <td>0.002042</td>\n",
       "      <td>16.818376</td>\n",
       "    </tr>\n",
       "    <tr>\n",
       "      <th>min</th>\n",
       "      <td>0.002045</td>\n",
       "      <td>0.027060</td>\n",
       "      <td>0.020247</td>\n",
       "      <td>333.590315</td>\n",
       "    </tr>\n",
       "    <tr>\n",
       "      <th>25%</th>\n",
       "      <td>0.002045</td>\n",
       "      <td>0.027347</td>\n",
       "      <td>0.020358</td>\n",
       "      <td>341.421832</td>\n",
       "    </tr>\n",
       "    <tr>\n",
       "      <th>50%</th>\n",
       "      <td>0.002045</td>\n",
       "      <td>0.027462</td>\n",
       "      <td>0.020407</td>\n",
       "      <td>350.110677</td>\n",
       "    </tr>\n",
       "    <tr>\n",
       "      <th>75%</th>\n",
       "      <td>0.002045</td>\n",
       "      <td>0.027517</td>\n",
       "      <td>0.020514</td>\n",
       "      <td>365.022379</td>\n",
       "    </tr>\n",
       "    <tr>\n",
       "      <th>max</th>\n",
       "      <td>0.002045</td>\n",
       "      <td>0.031387</td>\n",
       "      <td>0.024943</td>\n",
       "      <td>374.627894</td>\n",
       "    </tr>\n",
       "  </tbody>\n",
       "</table>\n",
       "</div>"
      ],
      "text/plain": [
       "            acc      loss       mae        time\n",
       "count  5.000000  5.000000  5.000000    5.000000\n",
       "mean   0.002045  0.028155  0.021294  352.954619\n",
       "std    0.000000  0.001815  0.002042   16.818376\n",
       "min    0.002045  0.027060  0.020247  333.590315\n",
       "25%    0.002045  0.027347  0.020358  341.421832\n",
       "50%    0.002045  0.027462  0.020407  350.110677\n",
       "75%    0.002045  0.027517  0.020514  365.022379\n",
       "max    0.002045  0.031387  0.024943  374.627894"
      ]
     },
     "execution_count": 5,
     "metadata": {},
     "output_type": "execute_result"
    }
   ],
   "source": [
    "pd.DataFrame(report).describe()"
   ]
  },
  {
   "cell_type": "code",
   "execution_count": null,
   "metadata": {},
   "outputs": [],
   "source": []
  }
 ],
 "metadata": {
  "hide_input": false,
  "kernelspec": {
   "display_name": "finance_py_35",
   "language": "python",
   "name": "finance35"
  },
  "language_info": {
   "codemirror_mode": {
    "name": "ipython",
    "version": 3
   },
   "file_extension": ".py",
   "mimetype": "text/x-python",
   "name": "python",
   "nbconvert_exporter": "python",
   "pygments_lexer": "ipython3",
   "version": "3.5.5"
  },
  "toc": {
   "base_numbering": 1,
   "nav_menu": {},
   "number_sections": true,
   "sideBar": true,
   "skip_h1_title": false,
   "title_cell": "Table of Contents",
   "title_sidebar": "Contents",
   "toc_cell": false,
   "toc_position": {},
   "toc_section_display": true,
   "toc_window_display": false
  }
 },
 "nbformat": 4,
 "nbformat_minor": 2
}
