{
 "cells": [
  {
   "cell_type": "code",
   "execution_count": 1,
   "metadata": {
    "ExecuteTime": {
     "end_time": "2019-04-11T13:12:53.688975Z",
     "start_time": "2019-04-11T13:12:53.682966Z"
    }
   },
   "outputs": [
    {
     "name": "stderr",
     "output_type": "stream",
     "text": [
      "Using CNTK backend\n",
      "C:\\Users\\guqiang\\AppData\\Local\\conda\\conda\\envs\\finance35\\lib\\site-packages\\cntk\\cntk_py_init.py:32: UserWarning: Unsupported Windows version (2012serverr2). CNTK supports Windows 10 and above, only.\n",
      "  warnings.warn('Unsupported Windows version (%s). CNTK supports Windows 10 and above, only.' % __my_distro_ver__)\n"
     ]
    }
   ],
   "source": [
    "import os\n",
    "os.environ['KERAS_BACKEND']='cntk'\n",
    "import sys\n",
    "sys.path.append(os.path.dirname(os.getcwd()))\n",
    "sys.path.append(os.path.dirname(os.path.dirname(os.getcwd())))\n",
    "import jupyter_helper\n",
    "from keras.backend import clear_session\n",
    "import pandas as pd\n",
    "import numpy as np\n",
    "from LSTM_for_Stock.data_processor import Wrapper_default\n",
    "from LSTM_for_Stock.data_processor import Normalize"
   ]
  },
  {
   "cell_type": "markdown",
   "metadata": {},
   "source": [
    "## 测试环境"
   ]
  },
  {
   "cell_type": "code",
   "execution_count": 2,
   "metadata": {},
   "outputs": [
    {
     "name": "stdout",
     "output_type": "stream",
     "text": [
      "OS Name: b'Microsoft Windows Server 2012 R2 Standard'\n",
      "OS Version: 6.3.9600 9600\n",
      "CPU: Intel(R) Core(TM) i3-2120 CPU @ 3.30GHz\n",
      "RAM: 11.941967010498047 GB\n",
      "Graphics Card: NVIDIA GeForce GTX 750 Ti\n"
     ]
    }
   ],
   "source": [
    "jupyter_helper.print_system_info()"
   ]
  },
  {
   "cell_type": "code",
   "execution_count": 3,
   "metadata": {
    "ExecuteTime": {
     "end_time": "2019-04-11T13:12:53.702967Z",
     "start_time": "2019-04-11T13:12:53.692975Z"
    }
   },
   "outputs": [],
   "source": [
    "report={}\n",
    "report['acc']=[]\n",
    "report['mae']=[]\n",
    "report['loss']=[]\n",
    "report['time']=[]"
   ]
  },
  {
   "cell_type": "code",
   "execution_count": null,
   "metadata": {
    "ExecuteTime": {
     "end_time": "2019-04-11T13:20:16.590524Z",
     "start_time": "2019-04-11T13:12:53.704984Z"
    }
   },
   "outputs": [
    {
     "name": "stdout",
     "output_type": "stream",
     "text": [
      "_________________________________________________________________\n",
      "Layer (type)                 Output Shape              Param #   \n",
      "=================================================================\n",
      "lstm_1 (LSTM)                (None, 128)               72192     \n",
      "_________________________________________________________________\n",
      "dense_1 (Dense)              (None, 1)                 129       \n",
      "=================================================================\n",
      "Total params: 72,321\n",
      "Trainable params: 72,321\n",
      "Non-trainable params: 0\n",
      "_________________________________________________________________\n",
      "Net time using :  300.3461084365845  secs.\n",
      "489/489 [==============================] - ETA:  - ETA:  - ETA:  - ETA:  - ETA:  - 0s 618us/step\n",
      "Score:\n",
      " loss:0.02722520279890433\n",
      " mean_absolute_error:0.02025686767036076\n",
      " acc:0.002044989775051125\n",
      "Slope Day1:0.96635126712527\n"
     ]
    }
   ],
   "source": [
    "for i in range(1, 6):\n",
    "    ls = [{'type': 'lstm', 'units': 128},\n",
    "          {'type': 'dense'}]\n",
    "    h = jupyter_helper.do(layers=ls)\n",
    "    s = jupyter_helper.show_history(h, show_plt=False)\n",
    "    clear_session()\n",
    "#     report['window'].append(i)\n",
    "    report['acc'].append(s['score'][2])\n",
    "    report['mae'].append(s['score'][1])\n",
    "    report['loss'].append(s['score'][0])\n",
    "    report['time'].append(h['end']-h['start'])"
   ]
  },
  {
   "cell_type": "markdown",
   "metadata": {},
   "source": [
    "### 报告"
   ]
  },
  {
   "cell_type": "code",
   "execution_count": null,
   "metadata": {
    "ExecuteTime": {
     "end_time": "2019-04-11T13:20:16.593521Z",
     "start_time": "2019-04-11T13:12:53.740Z"
    }
   },
   "outputs": [],
   "source": [
    "pd.DataFrame(report).describe()"
   ]
  },
  {
   "cell_type": "code",
   "execution_count": null,
   "metadata": {},
   "outputs": [],
   "source": []
  }
 ],
 "metadata": {
  "hide_input": false,
  "kernelspec": {
   "display_name": "finance_py_35",
   "language": "python",
   "name": "finance35"
  },
  "language_info": {
   "codemirror_mode": {
    "name": "ipython",
    "version": 3
   },
   "file_extension": ".py",
   "mimetype": "text/x-python",
   "name": "python",
   "nbconvert_exporter": "python",
   "pygments_lexer": "ipython3",
   "version": "3.5.5"
  },
  "toc": {
   "base_numbering": 1,
   "nav_menu": {},
   "number_sections": true,
   "sideBar": true,
   "skip_h1_title": false,
   "title_cell": "Table of Contents",
   "title_sidebar": "Contents",
   "toc_cell": false,
   "toc_position": {},
   "toc_section_display": true,
   "toc_window_display": false
  }
 },
 "nbformat": 4,
 "nbformat_minor": 2
}
