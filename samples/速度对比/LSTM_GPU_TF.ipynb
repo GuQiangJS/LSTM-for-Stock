{
 "cells": [
  {
   "cell_type": "code",
   "execution_count": 1,
   "metadata": {
    "ExecuteTime": {
     "end_time": "2019-04-11T13:12:53.688975Z",
     "start_time": "2019-04-11T13:12:53.682966Z"
    }
   },
   "outputs": [
    {
     "name": "stderr",
     "output_type": "stream",
     "text": [
      "Using TensorFlow backend.\n"
     ]
    }
   ],
   "source": [
    "import os\n",
    "import sys\n",
    "sys.path.append(os.path.dirname(os.getcwd()))\n",
    "sys.path.append(os.path.dirname(os.path.dirname(os.getcwd())))\n",
    "import jupyter_helper\n",
    "from keras.backend import clear_session\n",
    "import pandas as pd\n",
    "import numpy as np\n",
    "from LSTM_for_Stock.data_processor import Wrapper_default\n",
    "from LSTM_for_Stock.data_processor import Normalize"
   ]
  },
  {
   "cell_type": "markdown",
   "metadata": {},
   "source": [
    "## 测试环境"
   ]
  },
  {
   "cell_type": "code",
   "execution_count": 2,
   "metadata": {},
   "outputs": [
    {
     "name": "stdout",
     "output_type": "stream",
     "text": [
      "OS Name: b'Microsoft Windows Server 2012 R2 Standard'\n",
      "OS Version: 6.3.9600 9600\n",
      "CPU: Intel(R) Core(TM) i3-2120 CPU @ 3.30GHz\n",
      "RAM: 11.937084197998047 GB\n",
      "Graphics Card: NVIDIA GeForce GTX 750 Ti\n"
     ]
    }
   ],
   "source": [
    "jupyter_helper.print_system_info()"
   ]
  },
  {
   "cell_type": "code",
   "execution_count": 3,
   "metadata": {
    "ExecuteTime": {
     "end_time": "2019-04-11T13:12:53.702967Z",
     "start_time": "2019-04-11T13:12:53.692975Z"
    }
   },
   "outputs": [],
   "source": [
    "report={}\n",
    "report['acc']=[]\n",
    "report['mae']=[]\n",
    "report['loss']=[]\n",
    "report['time']=[]"
   ]
  },
  {
   "cell_type": "code",
   "execution_count": 4,
   "metadata": {
    "ExecuteTime": {
     "end_time": "2019-04-11T13:20:16.590524Z",
     "start_time": "2019-04-11T13:12:53.704984Z"
    }
   },
   "outputs": [
    {
     "name": "stdout",
     "output_type": "stream",
     "text": [
      "_________________________________________________________________\n",
      "Layer (type)                 Output Shape              Param #   \n",
      "=================================================================\n",
      "lstm_1 (LSTM)                (None, 128)               72192     \n",
      "_________________________________________________________________\n",
      "dense_1 (Dense)              (None, 1)                 129       \n",
      "=================================================================\n",
      "Total params: 72,321\n",
      "Trainable params: 72,321\n",
      "Non-trainable params: 0\n",
      "_________________________________________________________________\n",
      "Net time using :  329.28549575805664  secs.\n",
      "489/489 [==============================] - ETA:  - ETA:  - ETA:  - ETA:  - ETA:  - ETA:  - ETA:  - 1s 1ms/step\n",
      "Score:\n",
      " loss:0.03074789828104719\n",
      " mean_absolute_error:0.02416071266027316\n",
      " acc:0.002044989775051125\n",
      "Slope Day1:0.9329772595535551\n",
      "_________________________________________________________________\n",
      "Layer (type)                 Output Shape              Param #   \n",
      "=================================================================\n",
      "lstm_1 (LSTM)                (None, 128)               72192     \n",
      "_________________________________________________________________\n",
      "dense_1 (Dense)              (None, 1)                 129       \n",
      "=================================================================\n",
      "Total params: 72,321\n",
      "Trainable params: 72,321\n",
      "Non-trainable params: 0\n",
      "_________________________________________________________________\n",
      "Net time using :  325.30948090553284  secs.\n",
      "489/489 [==============================] - ETA:  - ETA:  - ETA:  - ETA:  - ETA:  - ETA:  - ETA:  - ETA:  - ETA:  - 1s 1ms/step\n",
      "Score:\n",
      " loss:0.027710037957305558\n",
      " mean_absolute_error:0.02079357801039526\n",
      " acc:0.002044989775051125\n",
      "Slope Day1:0.9544390366359625\n",
      "_________________________________________________________________\n",
      "Layer (type)                 Output Shape              Param #   \n",
      "=================================================================\n",
      "lstm_1 (LSTM)                (None, 128)               72192     \n",
      "_________________________________________________________________\n",
      "dense_1 (Dense)              (None, 1)                 129       \n",
      "=================================================================\n",
      "Total params: 72,321\n",
      "Trainable params: 72,321\n",
      "Non-trainable params: 0\n",
      "_________________________________________________________________\n",
      "Net time using :  325.2863175868988  secs.\n",
      "489/489 [==============================] - ETA:  - ETA:  - ETA:  - ETA:  - ETA:  - ETA:  - ETA:  - ETA:  - ETA:  - ETA:  - ETA:  - 1s 1ms/step\n",
      "Score:\n",
      " loss:0.030698075505822958\n",
      " mean_absolute_error:0.02433567409211263\n",
      " acc:0.002044989775051125\n",
      "Slope Day1:0.9609676189004908\n",
      "_________________________________________________________________\n",
      "Layer (type)                 Output Shape              Param #   \n",
      "=================================================================\n",
      "lstm_1 (LSTM)                (None, 128)               72192     \n",
      "_________________________________________________________________\n",
      "dense_1 (Dense)              (None, 1)                 129       \n",
      "=================================================================\n",
      "Total params: 72,321\n",
      "Trainable params: 72,321\n",
      "Non-trainable params: 0\n",
      "_________________________________________________________________\n",
      "Net time using :  325.63583755493164  secs.\n",
      "489/489 [==============================] - ETA:  - ETA:  - ETA:  - ETA:  - ETA:  - ETA:  - ETA:  - ETA:  - ETA:  - ETA:  - ETA:  - 1s 2ms/step\n",
      "Score:\n",
      " loss:0.030256631747954708\n",
      " mean_absolute_error:0.023796802279986973\n",
      " acc:0.002044989775051125\n",
      "Slope Day1:0.9491608852437665\n",
      "_________________________________________________________________\n",
      "Layer (type)                 Output Shape              Param #   \n",
      "=================================================================\n",
      "lstm_1 (LSTM)                (None, 128)               72192     \n",
      "_________________________________________________________________\n",
      "dense_1 (Dense)              (None, 1)                 129       \n",
      "=================================================================\n",
      "Total params: 72,321\n",
      "Trainable params: 72,321\n",
      "Non-trainable params: 0\n",
      "_________________________________________________________________\n",
      "Net time using :  326.0980718135834  secs.\n",
      "489/489 [==============================] - ETA:  - ETA:  - ETA:  - ETA:  - ETA:  - ETA:  - ETA:  - ETA:  - ETA:  - ETA:  - ETA:  - 1s 1ms/step\n",
      "Score:\n",
      " loss:0.031009971188926014\n",
      " mean_absolute_error:0.024711878277010955\n",
      " acc:0.002044989775051125\n",
      "Slope Day1:0.9451236947558527\n"
     ]
    }
   ],
   "source": [
    "for i in range(1, 6):\n",
    "    ls = [{'type': 'lstm', 'units': 128},\n",
    "          {'type': 'dense'}]\n",
    "    h = jupyter_helper.do(layers=ls)\n",
    "    s = jupyter_helper.show_history(h, show_plt=False)\n",
    "    clear_session()\n",
    "#     report['window'].append(i)\n",
    "    report['acc'].append(s['score'][2])\n",
    "    report['mae'].append(s['score'][1])\n",
    "    report['loss'].append(s['score'][0])\n",
    "    report['time'].append(h['end']-h['start'])"
   ]
  },
  {
   "cell_type": "markdown",
   "metadata": {},
   "source": [
    "### 报告"
   ]
  },
  {
   "cell_type": "code",
   "execution_count": 5,
   "metadata": {
    "ExecuteTime": {
     "end_time": "2019-04-11T13:20:16.593521Z",
     "start_time": "2019-04-11T13:12:53.740Z"
    }
   },
   "outputs": [
    {
     "data": {
      "text/html": [
       "<div>\n",
       "<style scoped>\n",
       "    .dataframe tbody tr th:only-of-type {\n",
       "        vertical-align: middle;\n",
       "    }\n",
       "\n",
       "    .dataframe tbody tr th {\n",
       "        vertical-align: top;\n",
       "    }\n",
       "\n",
       "    .dataframe thead th {\n",
       "        text-align: right;\n",
       "    }\n",
       "</style>\n",
       "<table border=\"1\" class=\"dataframe\">\n",
       "  <thead>\n",
       "    <tr style=\"text-align: right;\">\n",
       "      <th></th>\n",
       "      <th>acc</th>\n",
       "      <th>loss</th>\n",
       "      <th>mae</th>\n",
       "      <th>time</th>\n",
       "    </tr>\n",
       "  </thead>\n",
       "  <tbody>\n",
       "    <tr>\n",
       "      <th>count</th>\n",
       "      <td>5.000000</td>\n",
       "      <td>5.000000</td>\n",
       "      <td>5.000000</td>\n",
       "      <td>5.000000</td>\n",
       "    </tr>\n",
       "    <tr>\n",
       "      <th>mean</th>\n",
       "      <td>0.002045</td>\n",
       "      <td>0.030085</td>\n",
       "      <td>0.023560</td>\n",
       "      <td>326.323041</td>\n",
       "    </tr>\n",
       "    <tr>\n",
       "      <th>std</th>\n",
       "      <td>0.000000</td>\n",
       "      <td>0.001355</td>\n",
       "      <td>0.001581</td>\n",
       "      <td>1.688276</td>\n",
       "    </tr>\n",
       "    <tr>\n",
       "      <th>min</th>\n",
       "      <td>0.002045</td>\n",
       "      <td>0.027710</td>\n",
       "      <td>0.020794</td>\n",
       "      <td>325.286318</td>\n",
       "    </tr>\n",
       "    <tr>\n",
       "      <th>25%</th>\n",
       "      <td>0.002045</td>\n",
       "      <td>0.030257</td>\n",
       "      <td>0.023797</td>\n",
       "      <td>325.309481</td>\n",
       "    </tr>\n",
       "    <tr>\n",
       "      <th>50%</th>\n",
       "      <td>0.002045</td>\n",
       "      <td>0.030698</td>\n",
       "      <td>0.024161</td>\n",
       "      <td>325.635838</td>\n",
       "    </tr>\n",
       "    <tr>\n",
       "      <th>75%</th>\n",
       "      <td>0.002045</td>\n",
       "      <td>0.030748</td>\n",
       "      <td>0.024336</td>\n",
       "      <td>326.098072</td>\n",
       "    </tr>\n",
       "    <tr>\n",
       "      <th>max</th>\n",
       "      <td>0.002045</td>\n",
       "      <td>0.031010</td>\n",
       "      <td>0.024712</td>\n",
       "      <td>329.285496</td>\n",
       "    </tr>\n",
       "  </tbody>\n",
       "</table>\n",
       "</div>"
      ],
      "text/plain": [
       "            acc      loss       mae        time\n",
       "count  5.000000  5.000000  5.000000    5.000000\n",
       "mean   0.002045  0.030085  0.023560  326.323041\n",
       "std    0.000000  0.001355  0.001581    1.688276\n",
       "min    0.002045  0.027710  0.020794  325.286318\n",
       "25%    0.002045  0.030257  0.023797  325.309481\n",
       "50%    0.002045  0.030698  0.024161  325.635838\n",
       "75%    0.002045  0.030748  0.024336  326.098072\n",
       "max    0.002045  0.031010  0.024712  329.285496"
      ]
     },
     "execution_count": 5,
     "metadata": {},
     "output_type": "execute_result"
    }
   ],
   "source": [
    "pd.DataFrame(report).describe()"
   ]
  },
  {
   "cell_type": "code",
   "execution_count": null,
   "metadata": {},
   "outputs": [],
   "source": []
  }
 ],
 "metadata": {
  "hide_input": false,
  "kernelspec": {
   "display_name": "finance_py_35",
   "language": "python",
   "name": "finance35"
  },
  "language_info": {
   "codemirror_mode": {
    "name": "ipython",
    "version": 3
   },
   "file_extension": ".py",
   "mimetype": "text/x-python",
   "name": "python",
   "nbconvert_exporter": "python",
   "pygments_lexer": "ipython3",
   "version": "3.5.5"
  },
  "toc": {
   "base_numbering": 1,
   "nav_menu": {},
   "number_sections": true,
   "sideBar": true,
   "skip_h1_title": false,
   "title_cell": "Table of Contents",
   "title_sidebar": "Contents",
   "toc_cell": false,
   "toc_position": {},
   "toc_section_display": true,
   "toc_window_display": false
  }
 },
 "nbformat": 4,
 "nbformat_minor": 2
}
