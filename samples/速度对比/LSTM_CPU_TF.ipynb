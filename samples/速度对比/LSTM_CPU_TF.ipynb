{
 "cells": [
  {
   "cell_type": "code",
   "execution_count": 1,
   "metadata": {
    "ExecuteTime": {
     "end_time": "2019-04-11T13:12:53.688975Z",
     "start_time": "2019-04-11T13:12:53.682966Z"
    }
   },
   "outputs": [
    {
     "name": "stderr",
     "output_type": "stream",
     "text": [
      "Using TensorFlow backend.\n"
     ]
    }
   ],
   "source": [
    "import os\n",
    "os.environ[\"CUDA_VISIBLE_DEVICES\"] = \"-1\"\n",
    "import sys\n",
    "sys.path.append(os.path.dirname(os.getcwd()))\n",
    "sys.path.append(os.path.dirname(os.path.dirname(os.getcwd())))\n",
    "import jupyter_helper\n",
    "from keras.backend import clear_session\n",
    "import pandas as pd\n",
    "import numpy as np\n",
    "from LSTM_for_Stock.data_processor import Wrapper_default\n",
    "from LSTM_for_Stock.data_processor import Normalize"
   ]
  },
  {
   "cell_type": "markdown",
   "metadata": {},
   "source": [
    "## 测试环境"
   ]
  },
  {
   "cell_type": "code",
   "execution_count": 2,
   "metadata": {},
   "outputs": [
    {
     "name": "stdout",
     "output_type": "stream",
     "text": [
      "OS Name: b'Microsoft Windows Server 2012 R2 Standard'\n",
      "OS Version: 6.3.9600 9600\n",
      "CPU: Intel(R) Core(TM) i3-2120 CPU @ 3.30GHz\n",
      "RAM: 11.937084197998047 GB\n",
      "Graphics Card: NVIDIA GeForce GTX 750 Ti\n"
     ]
    }
   ],
   "source": [
    "jupyter_helper.print_system_info()"
   ]
  },
  {
   "cell_type": "code",
   "execution_count": 3,
   "metadata": {
    "ExecuteTime": {
     "end_time": "2019-04-11T13:12:53.702967Z",
     "start_time": "2019-04-11T13:12:53.692975Z"
    }
   },
   "outputs": [],
   "source": [
    "report={}\n",
    "report['acc']=[]\n",
    "report['mae']=[]\n",
    "report['loss']=[]\n",
    "report['time']=[]"
   ]
  },
  {
   "cell_type": "code",
   "execution_count": 4,
   "metadata": {
    "ExecuteTime": {
     "end_time": "2019-04-11T13:20:16.590524Z",
     "start_time": "2019-04-11T13:12:53.704984Z"
    }
   },
   "outputs": [
    {
     "name": "stdout",
     "output_type": "stream",
     "text": [
      "_________________________________________________________________\n",
      "Layer (type)                 Output Shape              Param #   \n",
      "=================================================================\n",
      "lstm_1 (LSTM)                (None, 128)               72192     \n",
      "_________________________________________________________________\n",
      "dense_1 (Dense)              (None, 1)                 129       \n",
      "=================================================================\n",
      "Total params: 72,321\n",
      "Trainable params: 72,321\n",
      "Non-trainable params: 0\n",
      "_________________________________________________________________\n",
      "Net time using :  80.64595055580139  secs.\n",
      "489/489 [==============================] - ETA:  - ETA:  - 0s 213us/step\n",
      "Score:\n",
      " loss:0.030610223965441278\n",
      " mean_absolute_error:0.024306006352502876\n",
      " acc:0.002044989775051125\n",
      "Slope Day1:0.944749113861561\n",
      "_________________________________________________________________\n",
      "Layer (type)                 Output Shape              Param #   \n",
      "=================================================================\n",
      "lstm_1 (LSTM)                (None, 128)               72192     \n",
      "_________________________________________________________________\n",
      "dense_1 (Dense)              (None, 1)                 129       \n",
      "=================================================================\n",
      "Total params: 72,321\n",
      "Trainable params: 72,321\n",
      "Non-trainable params: 0\n",
      "_________________________________________________________________\n",
      "Net time using :  79.03593635559082  secs.\n",
      "489/489 [==============================] - ETA:  - ETA:  - 0s 209us/step\n",
      "Score:\n",
      " loss:0.030191540287651412\n",
      " mean_absolute_error:0.023707625096195315\n",
      " acc:0.002044989775051125\n",
      "Slope Day1:0.939859707306659\n",
      "_________________________________________________________________\n",
      "Layer (type)                 Output Shape              Param #   \n",
      "=================================================================\n",
      "lstm_1 (LSTM)                (None, 128)               72192     \n",
      "_________________________________________________________________\n",
      "dense_1 (Dense)              (None, 1)                 129       \n",
      "=================================================================\n",
      "Total params: 72,321\n",
      "Trainable params: 72,321\n",
      "Non-trainable params: 0\n",
      "_________________________________________________________________\n",
      "Net time using :  80.41317701339722  secs.\n",
      "489/489 [==============================] - ETA:  - ETA:  - 0s 166us/step\n",
      "Score:\n",
      " loss:0.03060767506315908\n",
      " mean_absolute_error:0.024295069456313774\n",
      " acc:0.002044989775051125\n",
      "Slope Day1:0.957049646634344\n",
      "_________________________________________________________________\n",
      "Layer (type)                 Output Shape              Param #   \n",
      "=================================================================\n",
      "lstm_1 (LSTM)                (None, 128)               72192     \n",
      "_________________________________________________________________\n",
      "dense_1 (Dense)              (None, 1)                 129       \n",
      "=================================================================\n",
      "Total params: 72,321\n",
      "Trainable params: 72,321\n",
      "Non-trainable params: 0\n",
      "_________________________________________________________________\n",
      "Net time using :  80.84190964698792  secs.\n",
      "489/489 [==============================] - ETA:  - ETA:  - 0s 205us/step\n",
      "Score:\n",
      " loss:0.03067201071234081\n",
      " mean_absolute_error:0.024203228194776976\n",
      " acc:0.002044989775051125\n",
      "Slope Day1:0.9356549582504611\n",
      "_________________________________________________________________\n",
      "Layer (type)                 Output Shape              Param #   \n",
      "=================================================================\n",
      "lstm_1 (LSTM)                (None, 128)               72192     \n",
      "_________________________________________________________________\n",
      "dense_1 (Dense)              (None, 1)                 129       \n",
      "=================================================================\n",
      "Total params: 72,321\n",
      "Trainable params: 72,321\n",
      "Non-trainable params: 0\n",
      "_________________________________________________________________\n",
      "Net time using :  82.0876567363739  secs.\n",
      "489/489 [==============================] - ETA:  - 0s 88us/step\n",
      "Score:\n",
      " loss:0.0307217645011309\n",
      " mean_absolute_error:0.024349617579445273\n",
      " acc:0.002044989775051125\n",
      "Slope Day1:0.9398582663382389\n"
     ]
    }
   ],
   "source": [
    "for i in range(1, 6):\n",
    "    ls = [{'type': 'lstm', 'units': 128},\n",
    "          {'type': 'dense'}]\n",
    "    h = jupyter_helper.do(layers=ls)\n",
    "    s = jupyter_helper.show_history(h, show_plt=False)\n",
    "    clear_session()\n",
    "#     report['window'].append(i)\n",
    "    report['acc'].append(s['score'][2])\n",
    "    report['mae'].append(s['score'][1])\n",
    "    report['loss'].append(s['score'][0])\n",
    "    report['time'].append(h['end']-h['start'])"
   ]
  },
  {
   "cell_type": "markdown",
   "metadata": {},
   "source": [
    "### 报告"
   ]
  },
  {
   "cell_type": "code",
   "execution_count": 5,
   "metadata": {
    "ExecuteTime": {
     "end_time": "2019-04-11T13:20:16.593521Z",
     "start_time": "2019-04-11T13:12:53.740Z"
    }
   },
   "outputs": [
    {
     "data": {
      "text/html": [
       "<div>\n",
       "<style scoped>\n",
       "    .dataframe tbody tr th:only-of-type {\n",
       "        vertical-align: middle;\n",
       "    }\n",
       "\n",
       "    .dataframe tbody tr th {\n",
       "        vertical-align: top;\n",
       "    }\n",
       "\n",
       "    .dataframe thead th {\n",
       "        text-align: right;\n",
       "    }\n",
       "</style>\n",
       "<table border=\"1\" class=\"dataframe\">\n",
       "  <thead>\n",
       "    <tr style=\"text-align: right;\">\n",
       "      <th></th>\n",
       "      <th>acc</th>\n",
       "      <th>loss</th>\n",
       "      <th>mae</th>\n",
       "      <th>time</th>\n",
       "    </tr>\n",
       "  </thead>\n",
       "  <tbody>\n",
       "    <tr>\n",
       "      <th>count</th>\n",
       "      <td>5.000000</td>\n",
       "      <td>5.000000</td>\n",
       "      <td>5.000000</td>\n",
       "      <td>5.000000</td>\n",
       "    </tr>\n",
       "    <tr>\n",
       "      <th>mean</th>\n",
       "      <td>0.002045</td>\n",
       "      <td>0.030561</td>\n",
       "      <td>0.024172</td>\n",
       "      <td>80.604926</td>\n",
       "    </tr>\n",
       "    <tr>\n",
       "      <th>std</th>\n",
       "      <td>0.000000</td>\n",
       "      <td>0.000212</td>\n",
       "      <td>0.000265</td>\n",
       "      <td>1.090279</td>\n",
       "    </tr>\n",
       "    <tr>\n",
       "      <th>min</th>\n",
       "      <td>0.002045</td>\n",
       "      <td>0.030192</td>\n",
       "      <td>0.023708</td>\n",
       "      <td>79.035936</td>\n",
       "    </tr>\n",
       "    <tr>\n",
       "      <th>25%</th>\n",
       "      <td>0.002045</td>\n",
       "      <td>0.030608</td>\n",
       "      <td>0.024203</td>\n",
       "      <td>80.413177</td>\n",
       "    </tr>\n",
       "    <tr>\n",
       "      <th>50%</th>\n",
       "      <td>0.002045</td>\n",
       "      <td>0.030610</td>\n",
       "      <td>0.024295</td>\n",
       "      <td>80.645951</td>\n",
       "    </tr>\n",
       "    <tr>\n",
       "      <th>75%</th>\n",
       "      <td>0.002045</td>\n",
       "      <td>0.030672</td>\n",
       "      <td>0.024306</td>\n",
       "      <td>80.841910</td>\n",
       "    </tr>\n",
       "    <tr>\n",
       "      <th>max</th>\n",
       "      <td>0.002045</td>\n",
       "      <td>0.030722</td>\n",
       "      <td>0.024350</td>\n",
       "      <td>82.087657</td>\n",
       "    </tr>\n",
       "  </tbody>\n",
       "</table>\n",
       "</div>"
      ],
      "text/plain": [
       "            acc      loss       mae       time\n",
       "count  5.000000  5.000000  5.000000   5.000000\n",
       "mean   0.002045  0.030561  0.024172  80.604926\n",
       "std    0.000000  0.000212  0.000265   1.090279\n",
       "min    0.002045  0.030192  0.023708  79.035936\n",
       "25%    0.002045  0.030608  0.024203  80.413177\n",
       "50%    0.002045  0.030610  0.024295  80.645951\n",
       "75%    0.002045  0.030672  0.024306  80.841910\n",
       "max    0.002045  0.030722  0.024350  82.087657"
      ]
     },
     "execution_count": 5,
     "metadata": {},
     "output_type": "execute_result"
    }
   ],
   "source": [
    "pd.DataFrame(report).describe()"
   ]
  },
  {
   "cell_type": "code",
   "execution_count": null,
   "metadata": {},
   "outputs": [],
   "source": []
  }
 ],
 "metadata": {
  "hide_input": false,
  "kernelspec": {
   "display_name": "finance_py_35",
   "language": "python",
   "name": "finance35"
  },
  "language_info": {
   "codemirror_mode": {
    "name": "ipython",
    "version": 3
   },
   "file_extension": ".py",
   "mimetype": "text/x-python",
   "name": "python",
   "nbconvert_exporter": "python",
   "pygments_lexer": "ipython3",
   "version": "3.5.5"
  },
  "toc": {
   "base_numbering": 1,
   "nav_menu": {},
   "number_sections": true,
   "sideBar": true,
   "skip_h1_title": false,
   "title_cell": "Table of Contents",
   "title_sidebar": "Contents",
   "toc_cell": false,
   "toc_position": {},
   "toc_section_display": true,
   "toc_window_display": false
  }
 },
 "nbformat": 4,
 "nbformat_minor": 2
}
